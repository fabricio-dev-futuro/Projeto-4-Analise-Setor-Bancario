{
 "cells": [
  {
   "cell_type": "code",
   "execution_count": null,
   "metadata": {},
   "outputs": [],
   "source": [
    "# Importando pacotes para o processo de análise\n",
    "import os\n",
    "import pandas as pd\n",
    "import plotly_express as px"
   ]
  },
  {
   "cell_type": "code",
   "execution_count": null,
   "metadata": {},
   "outputs": [],
   "source": [
    "# Importando a base de dados que será analisada.\n",
    "table = pd.read_csv('clientes-banco\\\\ClientesBanco.csv', encoding='latin1')\n",
    "display(table)\n",
    "\n",
    "# O uso do encoding é feito poque dentro da base tem palavras com caractere especial, evitando assim, possíveis erros de leitura."
   ]
  },
  {
   "cell_type": "code",
   "execution_count": null,
   "metadata": {},
   "outputs": [],
   "source": [
    "## Tratando a Base de Dados\n",
    "\n",
    "# Identificando colunas sem informação, com informação irrelevante e com formato de dado errado para retira-las da análise.\n",
    "table = table.drop('CLIENTNUM', axis= 1)\n",
    " "
   ]
  },
  {
   "cell_type": "code",
   "execution_count": null,
   "metadata": {},
   "outputs": [],
   "source": [
    "# Analisando as informações da tabela \n",
    "table.info()"
   ]
  },
  {
   "cell_type": "code",
   "execution_count": null,
   "metadata": {},
   "outputs": [],
   "source": [
    "# A coluna \"Categoria Cartão\" apresenta uma linha com valor vazio, por ser apenas uma linha, esta será retirada.\n",
    "table = table.dropna()\n",
    "table.info()"
   ]
  },
  {
   "cell_type": "code",
   "execution_count": null,
   "metadata": {},
   "outputs": [],
   "source": [
    "# Verificando a distribuição dos dados da tabela. Arredondando os valores numéricos para melhor entendimento.\n",
    "table.describe().round(1)"
   ]
  },
  {
   "cell_type": "code",
   "execution_count": null,
   "metadata": {},
   "outputs": [],
   "source": [
    "## Identificando o motivo de cacelamento do cartão\n",
    "\n",
    "# Verificando a disposição de clientes (visão em valor absoluto)\n",
    "qtd_cliente = table['Categoria'].value_counts()\n",
    "qtd_cliente"
   ]
  },
  {
   "cell_type": "code",
   "execution_count": null,
   "metadata": {},
   "outputs": [],
   "source": [
    "# Disposição de cliente (visão em % de quantos são clientes ainda e quantos não são)\n",
    "qtd_cliente_percent = table['Categoria'].value_counts(normalize= True)\n",
    "qtd_cliente_percent"
   ]
  },
  {
   "cell_type": "code",
   "execution_count": null,
   "metadata": {},
   "outputs": [],
   "source": [
    "## Analisando os dados por meio de gráficos\n",
    "\n",
    "# Comparando as caracteristicas entre clientes ativos e cancelados por meio de gráfico histograma\n",
    "for column in table:\n",
    "    grafic = px.histogram(table, x= column, color= 'Categoria')\n",
    "    grafic.show()"
   ]
  }
 ],
 "metadata": {
  "kernelspec": {
   "display_name": "Python 3",
   "language": "python",
   "name": "python3"
  },
  "language_info": {
   "codemirror_mode": {
    "name": "ipython",
    "version": 3
   },
   "file_extension": ".py",
   "mimetype": "text/x-python",
   "name": "python",
   "nbconvert_exporter": "python",
   "pygments_lexer": "ipython3",
   "version": "3.11.2"
  },
  "orig_nbformat": 4
 },
 "nbformat": 4,
 "nbformat_minor": 2
}
